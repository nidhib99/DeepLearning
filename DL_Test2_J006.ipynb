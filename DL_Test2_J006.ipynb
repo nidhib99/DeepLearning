{
  "nbformat": 4,
  "nbformat_minor": 0,
  "metadata": {
    "colab": {
      "name": "DL-Test2-J006.ipynb",
      "provenance": [],
      "authorship_tag": "ABX9TyM0ao2au5L3l6ltszFVvtmM",
      "include_colab_link": true
    },
    "kernelspec": {
      "name": "python3",
      "display_name": "Python 3"
    },
    "accelerator": "GPU"
  },
  "cells": [
    {
      "cell_type": "markdown",
      "metadata": {
        "id": "view-in-github",
        "colab_type": "text"
      },
      "source": [
        "<a href=\"https://colab.research.google.com/github/nidhib99/DeepLearning/blob/master/DL_Test2_J006.ipynb\" target=\"_parent\"><img src=\"https://colab.research.google.com/assets/colab-badge.svg\" alt=\"Open In Colab\"/></a>"
      ]
    },
    {
      "cell_type": "code",
      "metadata": {
        "id": "Ppzaqmg4fVEE",
        "colab_type": "code",
        "outputId": "63cfeb78-f97d-482a-b2ae-56011ad8c091",
        "colab": {
          "base_uri": "https://localhost:8080/",
          "height": 82
        }
      },
      "source": [
        "# Ignore  the warnings\n",
        "import warnings\n",
        "warnings.filterwarnings('always')\n",
        "warnings.filterwarnings('ignore')\n",
        "\n",
        "# data visualisation and manipulation\n",
        "import numpy as np\n",
        "import pandas as pd\n",
        "import os\n",
        "import matplotlib.pyplot as plt\n",
        "from matplotlib import style\n",
        "import seaborn as sns\n",
        " \n",
        "#configure\n",
        "# sets matplotlib to inline and displays graphs below the corressponding cell.\n",
        "%matplotlib inline  \n",
        "style.use('fivethirtyeight')\n",
        "sns.set(style='whitegrid',color_codes=True)\n",
        "\n",
        "#model selection\n",
        "from sklearn.model_selection import train_test_split\n",
        "from sklearn.model_selection import KFold\n",
        "from sklearn.metrics import accuracy_score,precision_score,recall_score,confusion_matrix,roc_curve,roc_auc_score\n",
        "from sklearn.model_selection import GridSearchCV\n",
        "from sklearn.preprocessing import LabelEncoder\n",
        "\n",
        "#preprocess.\n",
        "from keras.preprocessing.image import ImageDataGenerator\n",
        "\n",
        "#dl libraraies\n",
        "from keras import backend as K\n",
        "from keras.models import Sequential\n",
        "from keras.layers import Dense\n",
        "from keras.optimizers import Adam,SGD,Adagrad,Adadelta,RMSprop\n",
        "from keras.utils import to_categorical\n",
        "\n",
        "# specifically for cnn\n",
        "from keras.layers import Dropout, Flatten,Activation\n",
        "from keras.layers import Conv2D, MaxPooling2D, BatchNormalization\n",
        " \n",
        "import tensorflow as tf\n",
        "import random as rn\n",
        "\n",
        "# specifically for manipulating zipped images and getting numpy arrays of pixel values of images.\n",
        "import cv2                  \n",
        "import numpy as np  \n",
        "from tqdm import tqdm\n",
        "import os                   \n",
        "from random import shuffle  \n",
        "from zipfile import ZipFile\n",
        "from PIL import Image"
      ],
      "execution_count": 0,
      "outputs": [
        {
          "output_type": "stream",
          "text": [
            "Using TensorFlow backend.\n"
          ],
          "name": "stderr"
        },
        {
          "output_type": "display_data",
          "data": {
            "text/html": [
              "<p style=\"color: red;\">\n",
              "The default version of TensorFlow in Colab will soon switch to TensorFlow 2.x.<br>\n",
              "We recommend you <a href=\"https://www.tensorflow.org/guide/migrate\" target=\"_blank\">upgrade</a> now \n",
              "or ensure your notebook will continue to use TensorFlow 1.x via the <code>%tensorflow_version 1.x</code> magic:\n",
              "<a href=\"https://colab.research.google.com/notebooks/tensorflow_version.ipynb\" target=\"_blank\">more info</a>.</p>\n"
            ],
            "text/plain": [
              "<IPython.core.display.HTML object>"
            ]
          },
          "metadata": {
            "tags": []
          }
        }
      ]
    },
    {
      "cell_type": "code",
      "metadata": {
        "id": "0pMU1bYgqXuH",
        "colab_type": "code",
        "outputId": "a1c447b4-dede-42ed-bd91-6fec0dde6fa5",
        "colab": {
          "base_uri": "https://localhost:8080/",
          "height": 1000
        }
      },
      "source": [
        "from google.colab import drive\n",
        "drive.mount('/content/drive')\n",
        "!ls drive/\"My Drive\""
      ],
      "execution_count": 0,
      "outputs": [
        {
          "output_type": "stream",
          "text": [
            "Go to this URL in a browser: https://accounts.google.com/o/oauth2/auth?client_id=947318989803-6bn6qk8qdgf4n4g3pfee6491hc0brc4i.apps.googleusercontent.com&redirect_uri=urn%3aietf%3awg%3aoauth%3a2.0%3aoob&response_type=code&scope=email%20https%3a%2f%2fwww.googleapis.com%2fauth%2fdocs.test%20https%3a%2f%2fwww.googleapis.com%2fauth%2fdrive%20https%3a%2f%2fwww.googleapis.com%2fauth%2fdrive.photos.readonly%20https%3a%2f%2fwww.googleapis.com%2fauth%2fpeopleapi.readonly\n",
            "\n",
            "Enter your authorization code:\n",
            "··········\n",
            "Mounted at /content/drive\n",
            "'2020 Calendar.gsheet'\n",
            " 5_6140728533678293179.gdoc\n",
            " 5_6323358531743383590.gdoc\n",
            " Activities.gdoc\n",
            "'AI REPORT.gdoc'\n",
            "'Answers to assignment#1.gdoc'\n",
            "'BDSS PPT.gslides'\n",
            " Camera\n",
            "'Case study.gslides'\n",
            " CGRating.csv\n",
            " CGRating.gsheet\n",
            " COI\n",
            "'Colab Notebooks'\n",
            "'Colab Notebooks (1)'\n",
            "'Dec Trip.gdoc'\n",
            "'Draft Intern Application.gdoc'\n",
            " EGRating.csv\n",
            " EGRating.gsheet\n",
            "'FIM PPT.gdoc'\n",
            " green_mountains_rocky.jpg\n",
            "'Group 9 - Real Time Object Recognition For Visually Impaired.gdoc'\n",
            " HelpMeSee\n",
            " hin.traineddata\n",
            " image2.jpeg\n",
            " IMG_1.jpg\n",
            " IMG_2.jpg\n",
            " indian_coins.jpg\n",
            " MM-2.gdoc\n",
            "'Movie Booking System.gsheet'\n",
            " NidhiBhatt-Orbuculum.gdoc\n",
            "'Orbuculum DS Interview - Round 1.gdoc'\n",
            " ORDATA.csv\n",
            "'Plastic Waste Segregation and Recycling (Responses).gsheet'\n",
            "'Project  1 - A research on effect of Ecosystem on Endangered species.docx'\n",
            "'Quality of Sleep.gform'\n",
            "'Rajasthan trip'\n",
            "'RBI as Regulator.gslides'\n",
            " Resume\n",
            " room_ser.JPG\n",
            " shapes_1.png\n",
            "'SM project.gsheet'\n",
            " SMSSpamCollection.txt\n",
            "'Summer trip'\n",
            " Test\n",
            "'To-do list.gsheet'\n",
            " traiangle.png\n",
            " TRIPPPPPPPP.gdoc\n",
            " UCI_Credit_Card.csv\n",
            " UCMerced_LandUse\n",
            "'Untitled document.gdoc'\n",
            " vidhms.csv\n"
          ],
          "name": "stdout"
        }
      ]
    },
    {
      "cell_type": "code",
      "metadata": {
        "id": "9LTq6PqAqe6t",
        "colab_type": "code",
        "colab": {}
      },
      "source": [
        "X=[]\n",
        "Z=[]\n",
        "IMG_SIZE=150\n",
        "\n",
        "AGRICULTURAL_DIR='drive/My Drive/UCMerced_LandUse/Images/agricultural' \n",
        "AIRPLANE_DIR='drive/My Drive/UCMerced_LandUse/Images/airplane'\n",
        "BASEBALLDIAMOND_DIR='drive/My Drive/UCMerced_LandUse/Images/baseballdiamond'\n",
        "BEACH_DIR='drive/My Drive/UCMerced_LandUse/Images/beach'\n",
        "BUILDINGS_DIR='drive/My Drive/UCMerced_LandUse/Images/buildings'\n",
        "CHAPARRAL_DIR='drive/My Drive/UCMerced_LandUse/Images/chaparral'\n",
        "DENSERESIDENTIAL_DIR='drive/My Drive/UCMerced_LandUse/Images/denseresidential'\n",
        "FOREST_DIR='drive/My Drive/UCMerced_LandUse/Images/forest'\n",
        "FREEWAY_DIR='drive/My Drive/UCMerced_LandUse/Images/freeway'\n",
        "GOLFCOURSE_DIR='drive/My Drive/UCMerced_LandUse/Images/golfcourse'\n",
        "HARBOR_DIR='drive/My Drive/UCMerced_LandUse/Images/harbor'\n",
        "INTERSECTION_DIR='drive/My Drive/UCMerced_LandUse/Images/intersection'\n",
        "MEDIUMRESIDENTIAL_DIR='drive/My Drive/UCMerced_LandUse/Images/mediumresidential'\n",
        "MOBILEHOMEPARK_DIR='drive/My Drive/UCMerced_LandUse/Images/mobilehomepark'\n",
        "OVERPASS_DIR='drive/My Drive/UCMerced_LandUse/Images/overpass'\n",
        "PARKINGLOT_DIR='drive/My Drive/UCMerced_LandUse/Images/parkinglot'\n",
        "RIVER_DIR='drive/My Drive/UCMerced_LandUse/Images/river'\n",
        "RUNWAY_DIR='drive/My Drive/UCMerced_LandUse/Images/runway'\n",
        "SPARSERESIDENTIAL_DIR='drive/My Drive/UCMerced_LandUse/Images/sparseresidential'\n",
        "STORAGETANKS_DIR='drive/My Drive/UCMerced_LandUse/Images/storagetanks'\n",
        "TENNISCOURT_DIR='drive/My Drive/UCMerced_LandUse/Images/tenniscourt'"
      ],
      "execution_count": 0,
      "outputs": []
    },
    {
      "cell_type": "code",
      "metadata": {
        "id": "FAnR9SUIqu9W",
        "colab_type": "code",
        "colab": {}
      },
      "source": [
        "def assign_label(img,image_type):\n",
        "    return image_type"
      ],
      "execution_count": 0,
      "outputs": []
    },
    {
      "cell_type": "code",
      "metadata": {
        "id": "c_pBa6VMqrIy",
        "colab_type": "code",
        "colab": {}
      },
      "source": [
        "def make_train_data(image_type,DIR):\n",
        "    for img in tqdm(os.listdir(DIR)):\n",
        "        label=assign_label(img,image_type)\n",
        "        path = os.path.join(DIR,img)\n",
        "        img = cv2.imread(path,cv2.IMREAD_COLOR)\n",
        "        img = cv2.resize(img, (IMG_SIZE,IMG_SIZE))\n",
        "        \n",
        "        X.append(np.array(img))\n",
        "        Z.append(str(label))"
      ],
      "execution_count": 0,
      "outputs": []
    },
    {
      "cell_type": "code",
      "metadata": {
        "id": "4kOpok4_qx6J",
        "colab_type": "code",
        "colab": {}
      },
      "source": [
        "from tqdm import tqdm"
      ],
      "execution_count": 0,
      "outputs": []
    },
    {
      "cell_type": "code",
      "metadata": {
        "id": "FnNdvzJ_q0UV",
        "colab_type": "code",
        "outputId": "9874f840-ace0-48dd-cb8f-b45a7eb7712d",
        "colab": {
          "base_uri": "https://localhost:8080/",
          "height": 52
        }
      },
      "source": [
        "make_train_data('Agricultural',AGRICULTURAL_DIR)\n",
        "print(len(X))"
      ],
      "execution_count": 0,
      "outputs": [
        {
          "output_type": "stream",
          "text": [
            "100%|██████████| 100/100 [00:44<00:00,  2.75it/s]"
          ],
          "name": "stderr"
        },
        {
          "output_type": "stream",
          "text": [
            "100\n"
          ],
          "name": "stdout"
        },
        {
          "output_type": "stream",
          "text": [
            "\n"
          ],
          "name": "stderr"
        }
      ]
    },
    {
      "cell_type": "code",
      "metadata": {
        "id": "XzZWloTKrAIT",
        "colab_type": "code",
        "outputId": "e585182e-9d46-4692-8518-b4a93da97e87",
        "colab": {
          "base_uri": "https://localhost:8080/",
          "height": 52
        }
      },
      "source": [
        "make_train_data('Airplane',AIRPLANE_DIR)\n",
        "print(len(X))"
      ],
      "execution_count": 0,
      "outputs": [
        {
          "output_type": "stream",
          "text": [
            "100%|██████████| 100/100 [00:42<00:00,  2.76it/s]"
          ],
          "name": "stderr"
        },
        {
          "output_type": "stream",
          "text": [
            "200\n"
          ],
          "name": "stdout"
        },
        {
          "output_type": "stream",
          "text": [
            "\n"
          ],
          "name": "stderr"
        }
      ]
    },
    {
      "cell_type": "code",
      "metadata": {
        "id": "wTr5aGV1rB0L",
        "colab_type": "code",
        "outputId": "b1658935-f2af-41f4-fa6c-f8d4d585ce43",
        "colab": {
          "base_uri": "https://localhost:8080/",
          "height": 52
        }
      },
      "source": [
        "make_train_data('Baseball Diamond',BASEBALLDIAMOND_DIR)\n",
        "print(len(X))"
      ],
      "execution_count": 0,
      "outputs": [
        {
          "output_type": "stream",
          "text": [
            "100%|██████████| 100/100 [00:41<00:00,  2.12it/s]"
          ],
          "name": "stderr"
        },
        {
          "output_type": "stream",
          "text": [
            "300\n"
          ],
          "name": "stdout"
        },
        {
          "output_type": "stream",
          "text": [
            "\n"
          ],
          "name": "stderr"
        }
      ]
    },
    {
      "cell_type": "code",
      "metadata": {
        "id": "shs2SqDRrDZ-",
        "colab_type": "code",
        "outputId": "36212f5d-6959-48ae-beae-6e3a750dbdef",
        "colab": {
          "base_uri": "https://localhost:8080/",
          "height": 52
        }
      },
      "source": [
        "make_train_data('Beach',BEACH_DIR)\n",
        "print(len(X))"
      ],
      "execution_count": 0,
      "outputs": [
        {
          "output_type": "stream",
          "text": [
            "100%|██████████| 100/100 [00:40<00:00,  2.25it/s]"
          ],
          "name": "stderr"
        },
        {
          "output_type": "stream",
          "text": [
            "400\n"
          ],
          "name": "stdout"
        },
        {
          "output_type": "stream",
          "text": [
            "\n"
          ],
          "name": "stderr"
        }
      ]
    },
    {
      "cell_type": "code",
      "metadata": {
        "id": "m-Qu32DNrGlk",
        "colab_type": "code",
        "outputId": "81ac6a56-27a1-473f-bb73-2b4a97ea179a",
        "colab": {
          "base_uri": "https://localhost:8080/",
          "height": 52
        }
      },
      "source": [
        "make_train_data('Buildings',BUILDINGS_DIR)\n",
        "print(len(X))"
      ],
      "execution_count": 0,
      "outputs": [
        {
          "output_type": "stream",
          "text": [
            "100%|██████████| 100/100 [00:48<00:00,  2.27it/s]"
          ],
          "name": "stderr"
        },
        {
          "output_type": "stream",
          "text": [
            "500\n"
          ],
          "name": "stdout"
        },
        {
          "output_type": "stream",
          "text": [
            "\n"
          ],
          "name": "stderr"
        }
      ]
    },
    {
      "cell_type": "code",
      "metadata": {
        "id": "MC1JKg-hrInA",
        "colab_type": "code",
        "outputId": "8225899a-9c00-4ef5-fb6c-00d925baa620",
        "colab": {
          "base_uri": "https://localhost:8080/",
          "height": 52
        }
      },
      "source": [
        "make_train_data('Chaparral',CHAPARRAL_DIR)\n",
        "print(len(X))"
      ],
      "execution_count": 0,
      "outputs": [
        {
          "output_type": "stream",
          "text": [
            "100%|██████████| 100/100 [00:48<00:00,  1.22it/s]"
          ],
          "name": "stderr"
        },
        {
          "output_type": "stream",
          "text": [
            "600\n"
          ],
          "name": "stdout"
        },
        {
          "output_type": "stream",
          "text": [
            "\n"
          ],
          "name": "stderr"
        }
      ]
    },
    {
      "cell_type": "code",
      "metadata": {
        "id": "yzVU5OWUrKWR",
        "colab_type": "code",
        "outputId": "52717421-1faf-44c9-d410-a8ddaa1b8ed6",
        "colab": {
          "base_uri": "https://localhost:8080/",
          "height": 52
        }
      },
      "source": [
        "make_train_data('Chaparral',CHAPARRAL_DIR)\n",
        "print(len(X))"
      ],
      "execution_count": 0,
      "outputs": [
        {
          "output_type": "stream",
          "text": [
            "100%|██████████| 100/100 [00:00<00:00, 434.77it/s]"
          ],
          "name": "stderr"
        },
        {
          "output_type": "stream",
          "text": [
            "700\n"
          ],
          "name": "stdout"
        },
        {
          "output_type": "stream",
          "text": [
            "\n"
          ],
          "name": "stderr"
        }
      ]
    },
    {
      "cell_type": "code",
      "metadata": {
        "id": "x5RU_b2BrL5E",
        "colab_type": "code",
        "outputId": "5b100c15-c8d7-4357-e1e9-81f5f2502c2e",
        "colab": {
          "base_uri": "https://localhost:8080/",
          "height": 52
        }
      },
      "source": [
        "make_train_data('Forest',FOREST_DIR)\n",
        "print(len(X))"
      ],
      "execution_count": 0,
      "outputs": [
        {
          "output_type": "stream",
          "text": [
            "100%|██████████| 100/100 [00:50<00:00,  2.19it/s]"
          ],
          "name": "stderr"
        },
        {
          "output_type": "stream",
          "text": [
            "800\n"
          ],
          "name": "stdout"
        },
        {
          "output_type": "stream",
          "text": [
            "\n"
          ],
          "name": "stderr"
        }
      ]
    },
    {
      "cell_type": "code",
      "metadata": {
        "id": "tJXddV8nrNsS",
        "colab_type": "code",
        "outputId": "a1b41ab3-7674-4401-b3e1-74806c4ada17",
        "colab": {
          "base_uri": "https://localhost:8080/",
          "height": 52
        }
      },
      "source": [
        "make_train_data('Freeway',FREEWAY_DIR)\n",
        "print(len(X))"
      ],
      "execution_count": 0,
      "outputs": [
        {
          "output_type": "stream",
          "text": [
            "100%|██████████| 100/100 [00:50<00:00,  2.30it/s]"
          ],
          "name": "stderr"
        },
        {
          "output_type": "stream",
          "text": [
            "900\n"
          ],
          "name": "stdout"
        },
        {
          "output_type": "stream",
          "text": [
            "\n"
          ],
          "name": "stderr"
        }
      ]
    },
    {
      "cell_type": "code",
      "metadata": {
        "id": "vLM_gZ4irPsy",
        "colab_type": "code",
        "outputId": "c3799332-5603-4e88-f25a-1349cc1974c2",
        "colab": {
          "base_uri": "https://localhost:8080/",
          "height": 52
        }
      },
      "source": [
        "make_train_data('Golfcourse',GOLFCOURSE_DIR)\n",
        "print(len(X))"
      ],
      "execution_count": 0,
      "outputs": [
        {
          "output_type": "stream",
          "text": [
            "100%|██████████| 100/100 [00:45<00:00,  2.31it/s]"
          ],
          "name": "stderr"
        },
        {
          "output_type": "stream",
          "text": [
            "1000\n"
          ],
          "name": "stdout"
        },
        {
          "output_type": "stream",
          "text": [
            "\n"
          ],
          "name": "stderr"
        }
      ]
    },
    {
      "cell_type": "code",
      "metadata": {
        "id": "mVCA7c8zrZsj",
        "colab_type": "code",
        "outputId": "a2108ddd-60d2-4e04-b301-9124b2713aff",
        "colab": {
          "base_uri": "https://localhost:8080/",
          "height": 52
        }
      },
      "source": [
        "make_train_data('Harbor',HARBOR_DIR)\n",
        "print(len(X))"
      ],
      "execution_count": 0,
      "outputs": [
        {
          "output_type": "stream",
          "text": [
            "100%|██████████| 100/100 [00:44<00:00,  2.48it/s]"
          ],
          "name": "stderr"
        },
        {
          "output_type": "stream",
          "text": [
            "1100\n"
          ],
          "name": "stdout"
        },
        {
          "output_type": "stream",
          "text": [
            "\n"
          ],
          "name": "stderr"
        }
      ]
    },
    {
      "cell_type": "code",
      "metadata": {
        "id": "S0JSCxz1rbLI",
        "colab_type": "code",
        "outputId": "6ad2265e-8419-411e-80a1-12254873ff4f",
        "colab": {
          "base_uri": "https://localhost:8080/",
          "height": 52
        }
      },
      "source": [
        "make_train_data('Intersection',INTERSECTION_DIR)\n",
        "print(len(X))"
      ],
      "execution_count": 0,
      "outputs": [
        {
          "output_type": "stream",
          "text": [
            "100%|██████████| 100/100 [00:48<00:00,  2.14it/s]"
          ],
          "name": "stderr"
        },
        {
          "output_type": "stream",
          "text": [
            "1200\n"
          ],
          "name": "stdout"
        },
        {
          "output_type": "stream",
          "text": [
            "\n"
          ],
          "name": "stderr"
        }
      ]
    },
    {
      "cell_type": "code",
      "metadata": {
        "id": "G1sxz169rdRE",
        "colab_type": "code",
        "outputId": "2391ba3d-8eca-46fb-f7c8-6164931d6df9",
        "colab": {
          "base_uri": "https://localhost:8080/",
          "height": 52
        }
      },
      "source": [
        "make_train_data('Medium Residential',MEDIUMRESIDENTIAL_DIR)\n",
        "print(len(X))"
      ],
      "execution_count": 0,
      "outputs": [
        {
          "output_type": "stream",
          "text": [
            "100%|██████████| 100/100 [00:53<00:00,  1.43it/s]"
          ],
          "name": "stderr"
        },
        {
          "output_type": "stream",
          "text": [
            "1300\n"
          ],
          "name": "stdout"
        },
        {
          "output_type": "stream",
          "text": [
            "\n"
          ],
          "name": "stderr"
        }
      ]
    },
    {
      "cell_type": "code",
      "metadata": {
        "id": "CozGUlBdre2a",
        "colab_type": "code",
        "outputId": "c69310c0-66de-4182-ea5b-1c951d086bc2",
        "colab": {
          "base_uri": "https://localhost:8080/",
          "height": 52
        }
      },
      "source": [
        "make_train_data('Mobile Home Park',MOBILEHOMEPARK_DIR)\n",
        "print(len(X))"
      ],
      "execution_count": 0,
      "outputs": [
        {
          "output_type": "stream",
          "text": [
            "100%|██████████| 100/100 [00:45<00:00,  2.26it/s]"
          ],
          "name": "stderr"
        },
        {
          "output_type": "stream",
          "text": [
            "1400\n"
          ],
          "name": "stdout"
        },
        {
          "output_type": "stream",
          "text": [
            "\n"
          ],
          "name": "stderr"
        }
      ]
    },
    {
      "cell_type": "code",
      "metadata": {
        "id": "f_g9pt81rg6f",
        "colab_type": "code",
        "outputId": "d7ade346-2527-41ed-bb6f-c3a1f988ce36",
        "colab": {
          "base_uri": "https://localhost:8080/",
          "height": 52
        }
      },
      "source": [
        "make_train_data('Overpass',OVERPASS_DIR)\n",
        "print(len(X))"
      ],
      "execution_count": 0,
      "outputs": [
        {
          "output_type": "stream",
          "text": [
            "100%|██████████| 100/100 [00:48<00:00,  1.72it/s]"
          ],
          "name": "stderr"
        },
        {
          "output_type": "stream",
          "text": [
            "1500\n"
          ],
          "name": "stdout"
        },
        {
          "output_type": "stream",
          "text": [
            "\n"
          ],
          "name": "stderr"
        }
      ]
    },
    {
      "cell_type": "code",
      "metadata": {
        "id": "b0mXsA8wrjL_",
        "colab_type": "code",
        "outputId": "9ae21ac7-28c0-4a62-a8be-8591b66a6e39",
        "colab": {
          "base_uri": "https://localhost:8080/",
          "height": 52
        }
      },
      "source": [
        "make_train_data('Parking Lot',PARKINGLOT_DIR)\n",
        "print(len(X))"
      ],
      "execution_count": 0,
      "outputs": [
        {
          "output_type": "stream",
          "text": [
            "100%|██████████| 100/100 [00:51<00:00,  2.60it/s]"
          ],
          "name": "stderr"
        },
        {
          "output_type": "stream",
          "text": [
            "1600\n"
          ],
          "name": "stdout"
        },
        {
          "output_type": "stream",
          "text": [
            "\n"
          ],
          "name": "stderr"
        }
      ]
    },
    {
      "cell_type": "code",
      "metadata": {
        "id": "ku9EHShPrm8B",
        "colab_type": "code",
        "outputId": "eab1e31f-d42b-4e21-ee47-b1be32ab8397",
        "colab": {
          "base_uri": "https://localhost:8080/",
          "height": 52
        }
      },
      "source": [
        "make_train_data('River',RIVER_DIR)\n",
        "print(len(X))"
      ],
      "execution_count": 0,
      "outputs": [
        {
          "output_type": "stream",
          "text": [
            "100%|██████████| 100/100 [00:52<00:00,  2.23it/s]"
          ],
          "name": "stderr"
        },
        {
          "output_type": "stream",
          "text": [
            "1700\n"
          ],
          "name": "stdout"
        },
        {
          "output_type": "stream",
          "text": [
            "\n"
          ],
          "name": "stderr"
        }
      ]
    },
    {
      "cell_type": "code",
      "metadata": {
        "id": "o595nLCgro8e",
        "colab_type": "code",
        "outputId": "f1d93a5d-6bc9-4044-8fdd-ba5100713edb",
        "colab": {
          "base_uri": "https://localhost:8080/",
          "height": 52
        }
      },
      "source": [
        "make_train_data('Runway',RUNWAY_DIR)\n",
        "print(len(X))"
      ],
      "execution_count": 0,
      "outputs": [
        {
          "output_type": "stream",
          "text": [
            "100%|██████████| 100/100 [00:41<00:00,  2.84it/s]"
          ],
          "name": "stderr"
        },
        {
          "output_type": "stream",
          "text": [
            "1800\n"
          ],
          "name": "stdout"
        },
        {
          "output_type": "stream",
          "text": [
            "\n"
          ],
          "name": "stderr"
        }
      ]
    },
    {
      "cell_type": "code",
      "metadata": {
        "id": "r4En5mQbrpiF",
        "colab_type": "code",
        "outputId": "a6e2af59-da1b-4bfd-f96f-63ac24ffa115",
        "colab": {
          "base_uri": "https://localhost:8080/",
          "height": 52
        }
      },
      "source": [
        "make_train_data('Sparse Residential',SPARSERESIDENTIAL_DIR)\n",
        "print(len(X))"
      ],
      "execution_count": 0,
      "outputs": [
        {
          "output_type": "stream",
          "text": [
            "100%|██████████| 100/100 [00:39<00:00,  2.75it/s]"
          ],
          "name": "stderr"
        },
        {
          "output_type": "stream",
          "text": [
            "1900\n"
          ],
          "name": "stdout"
        },
        {
          "output_type": "stream",
          "text": [
            "\n"
          ],
          "name": "stderr"
        }
      ]
    },
    {
      "cell_type": "code",
      "metadata": {
        "id": "67eEzQrwrrS4",
        "colab_type": "code",
        "outputId": "c06f89bf-b37f-44da-f00f-b7b80d553f7a",
        "colab": {
          "base_uri": "https://localhost:8080/",
          "height": 52
        }
      },
      "source": [
        "make_train_data('Storage Tanks',STORAGETANKS_DIR)\n",
        "print(len(X))"
      ],
      "execution_count": 0,
      "outputs": [
        {
          "output_type": "stream",
          "text": [
            "100%|██████████| 100/100 [00:43<00:00,  2.82it/s]"
          ],
          "name": "stderr"
        },
        {
          "output_type": "stream",
          "text": [
            "2000\n"
          ],
          "name": "stdout"
        },
        {
          "output_type": "stream",
          "text": [
            "\n"
          ],
          "name": "stderr"
        }
      ]
    },
    {
      "cell_type": "code",
      "metadata": {
        "id": "u2y4ABeHrtGT",
        "colab_type": "code",
        "outputId": "7f44dbac-151d-4f09-cdc6-da448c732973",
        "colab": {
          "base_uri": "https://localhost:8080/",
          "height": 52
        }
      },
      "source": [
        "make_train_data('Tennis Court',TENNISCOURT_DIR)\n",
        "print(len(X))"
      ],
      "execution_count": 0,
      "outputs": [
        {
          "output_type": "stream",
          "text": [
            "100%|██████████| 100/100 [00:43<00:00,  2.35it/s]"
          ],
          "name": "stderr"
        },
        {
          "output_type": "stream",
          "text": [
            "2100\n"
          ],
          "name": "stdout"
        },
        {
          "output_type": "stream",
          "text": [
            "\n"
          ],
          "name": "stderr"
        }
      ]
    },
    {
      "cell_type": "code",
      "metadata": {
        "id": "iAua0I9ftlbh",
        "colab_type": "code",
        "colab": {}
      },
      "source": [
        "le=LabelEncoder()\n",
        "Y=le.fit_transform(Z)\n",
        "Y=to_categorical(Y,21)\n",
        "X=np.array(X)\n",
        "X=X/255"
      ],
      "execution_count": 0,
      "outputs": []
    },
    {
      "cell_type": "code",
      "metadata": {
        "id": "otGdrU8Ytn6w",
        "colab_type": "code",
        "colab": {}
      },
      "source": [
        "x_train,x_test,y_train,y_test=train_test_split(X,Y,test_size=0.25,random_state=42)"
      ],
      "execution_count": 0,
      "outputs": []
    },
    {
      "cell_type": "code",
      "metadata": {
        "id": "hLHlTuXAtp-Q",
        "colab_type": "code",
        "colab": {}
      },
      "source": [
        "np.random.seed(42)\n",
        "rn.seed(42)\n",
        "tf.set_random_seed(42)"
      ],
      "execution_count": 0,
      "outputs": []
    },
    {
      "cell_type": "code",
      "metadata": {
        "id": "0C3bEDShtr8_",
        "colab_type": "code",
        "outputId": "93c07c93-b94e-4f21-920d-dfa10e56472e",
        "colab": {
          "base_uri": "https://localhost:8080/",
          "height": 159
        }
      },
      "source": [
        "# # modelling starts using a CNN.\n",
        "\n",
        "model = Sequential()\n",
        "model.add(Conv2D(filters = 32, kernel_size = (5,5),padding = 'Same',activation ='relu', input_shape = (150,150,3)))\n",
        "model.add(MaxPooling2D(pool_size=(2,2)))\n",
        "\n",
        "\n",
        "model.add(Conv2D(filters = 64, kernel_size = (3,3),padding = 'Same',activation ='relu'))\n",
        "model.add(MaxPooling2D(pool_size=(2,2), strides=(2,2)))\n",
        " \n",
        "\n",
        "model.add(Conv2D(filters =96, kernel_size = (3,3),padding = 'Same',activation ='relu'))\n",
        "model.add(MaxPooling2D(pool_size=(2,2), strides=(2,2)))\n",
        "\n",
        "model.add(Conv2D(filters = 96, kernel_size = (3,3),padding = 'Same',activation ='relu'))\n",
        "model.add(MaxPooling2D(pool_size=(2,2), strides=(2,2)))\n",
        "\n",
        "model.add(Flatten())\n",
        "model.add(Dense(512))\n",
        "model.add(Activation('relu'))\n",
        "model.add(Dense(21, activation = \"softmax\"))"
      ],
      "execution_count": 0,
      "outputs": [
        {
          "output_type": "stream",
          "text": [
            "WARNING:tensorflow:From /usr/local/lib/python3.6/dist-packages/keras/backend/tensorflow_backend.py:66: The name tf.get_default_graph is deprecated. Please use tf.compat.v1.get_default_graph instead.\n",
            "\n",
            "WARNING:tensorflow:From /usr/local/lib/python3.6/dist-packages/keras/backend/tensorflow_backend.py:541: The name tf.placeholder is deprecated. Please use tf.compat.v1.placeholder instead.\n",
            "\n",
            "WARNING:tensorflow:From /usr/local/lib/python3.6/dist-packages/keras/backend/tensorflow_backend.py:4432: The name tf.random_uniform is deprecated. Please use tf.random.uniform instead.\n",
            "\n",
            "WARNING:tensorflow:From /usr/local/lib/python3.6/dist-packages/keras/backend/tensorflow_backend.py:4267: The name tf.nn.max_pool is deprecated. Please use tf.nn.max_pool2d instead.\n",
            "\n"
          ],
          "name": "stdout"
        }
      ]
    },
    {
      "cell_type": "code",
      "metadata": {
        "id": "rLN_i98_ttyc",
        "colab_type": "code",
        "colab": {}
      },
      "source": [
        "batch_size=21\n",
        "epochs=50\n",
        "\n",
        "from keras.callbacks import ReduceLROnPlateau\n",
        "red_lr= ReduceLROnPlateau(monitor='val_acc',patience=3,verbose=1,factor=0.1)"
      ],
      "execution_count": 0,
      "outputs": []
    },
    {
      "cell_type": "code",
      "metadata": {
        "id": "t1vjnA2StwGj",
        "colab_type": "code",
        "colab": {}
      },
      "source": [
        "datagen = ImageDataGenerator(\n",
        "        featurewise_center=False,  # set input mean to 0 over the dataset\n",
        "        samplewise_center=False,  # set each sample mean to 0\n",
        "        featurewise_std_normalization=False,  # divide inputs by std of the dataset\n",
        "        samplewise_std_normalization=False,  # divide each input by its std\n",
        "        zca_whitening=False,  # apply ZCA whitening\n",
        "        rotation_range=10,  # randomly rotate images in the range (degrees, 0 to 180)\n",
        "        zoom_range = 0.1, # Randomly zoom image \n",
        "        width_shift_range=0.2,  # randomly shift images horizontally (fraction of total width)\n",
        "        height_shift_range=0.2,  # randomly shift images vertically (fraction of total height)\n",
        "        horizontal_flip=True,  # randomly flip images\n",
        "        vertical_flip=False)  # randomly flip images\n",
        "\n",
        "\n",
        "datagen.fit(x_train)"
      ],
      "execution_count": 0,
      "outputs": []
    },
    {
      "cell_type": "code",
      "metadata": {
        "id": "YyT3NgvNtycl",
        "colab_type": "code",
        "outputId": "3924f214-9574-4225-f810-6fa8f97ee920",
        "colab": {
          "base_uri": "https://localhost:8080/",
          "height": 141
        }
      },
      "source": [
        "model.compile(optimizer=Adam(lr=0.001),loss='binary_crossentropy',metrics=['accuracy'])"
      ],
      "execution_count": 0,
      "outputs": [
        {
          "output_type": "stream",
          "text": [
            "WARNING:tensorflow:From /usr/local/lib/python3.6/dist-packages/keras/optimizers.py:793: The name tf.train.Optimizer is deprecated. Please use tf.compat.v1.train.Optimizer instead.\n",
            "\n",
            "WARNING:tensorflow:From /usr/local/lib/python3.6/dist-packages/keras/backend/tensorflow_backend.py:3657: The name tf.log is deprecated. Please use tf.math.log instead.\n",
            "\n",
            "WARNING:tensorflow:From /usr/local/lib/python3.6/dist-packages/tensorflow_core/python/ops/nn_impl.py:183: where (from tensorflow.python.ops.array_ops) is deprecated and will be removed in a future version.\n",
            "Instructions for updating:\n",
            "Use tf.where in 2.0, which has the same broadcast rule as np.where\n"
          ],
          "name": "stdout"
        }
      ]
    },
    {
      "cell_type": "code",
      "metadata": {
        "id": "3SyZ8kvLt08t",
        "colab_type": "code",
        "outputId": "31b2ef14-74d9-41a0-ac51-a2b84e7264a5",
        "colab": {
          "base_uri": "https://localhost:8080/",
          "height": 586
        }
      },
      "source": [
        "model.summary()"
      ],
      "execution_count": 0,
      "outputs": [
        {
          "output_type": "stream",
          "text": [
            "Model: \"sequential_1\"\n",
            "_________________________________________________________________\n",
            "Layer (type)                 Output Shape              Param #   \n",
            "=================================================================\n",
            "conv2d_1 (Conv2D)            (None, 150, 150, 32)      2432      \n",
            "_________________________________________________________________\n",
            "max_pooling2d_1 (MaxPooling2 (None, 75, 75, 32)        0         \n",
            "_________________________________________________________________\n",
            "conv2d_2 (Conv2D)            (None, 75, 75, 64)        18496     \n",
            "_________________________________________________________________\n",
            "max_pooling2d_2 (MaxPooling2 (None, 37, 37, 64)        0         \n",
            "_________________________________________________________________\n",
            "conv2d_3 (Conv2D)            (None, 37, 37, 96)        55392     \n",
            "_________________________________________________________________\n",
            "max_pooling2d_3 (MaxPooling2 (None, 18, 18, 96)        0         \n",
            "_________________________________________________________________\n",
            "conv2d_4 (Conv2D)            (None, 18, 18, 96)        83040     \n",
            "_________________________________________________________________\n",
            "max_pooling2d_4 (MaxPooling2 (None, 9, 9, 96)          0         \n",
            "_________________________________________________________________\n",
            "flatten_1 (Flatten)          (None, 7776)              0         \n",
            "_________________________________________________________________\n",
            "dense_1 (Dense)              (None, 512)               3981824   \n",
            "_________________________________________________________________\n",
            "activation_1 (Activation)    (None, 512)               0         \n",
            "_________________________________________________________________\n",
            "dense_2 (Dense)              (None, 21)                10773     \n",
            "=================================================================\n",
            "Total params: 4,151,957\n",
            "Trainable params: 4,151,957\n",
            "Non-trainable params: 0\n",
            "_________________________________________________________________\n"
          ],
          "name": "stdout"
        }
      ]
    },
    {
      "cell_type": "code",
      "metadata": {
        "id": "XzPAMirlt7xj",
        "colab_type": "code",
        "outputId": "e5a6ac67-d4be-43de-8a16-195d1f3c1c79",
        "colab": {
          "base_uri": "https://localhost:8080/",
          "height": 1000
        }
      },
      "source": [
        "History = model.fit_generator(datagen.flow(x_train,y_train, batch_size=batch_size),\n",
        "                              epochs = epochs, validation_data = (x_test,y_test), \n",
        "                              verbose = 1, steps_per_epoch=x_train.shape[0] // batch_size)\n",
        "# model.fit(x_train,y_train,epochs=epochs,batch_size=batch_size,validation_data = (x_test,y_test))"
      ],
      "execution_count": 0,
      "outputs": [
        {
          "output_type": "stream",
          "text": [
            "WARNING:tensorflow:From /usr/local/lib/python3.6/dist-packages/keras/backend/tensorflow_backend.py:1033: The name tf.assign_add is deprecated. Please use tf.compat.v1.assign_add instead.\n",
            "\n",
            "WARNING:tensorflow:From /usr/local/lib/python3.6/dist-packages/keras/backend/tensorflow_backend.py:1020: The name tf.assign is deprecated. Please use tf.compat.v1.assign instead.\n",
            "\n",
            "WARNING:tensorflow:From /usr/local/lib/python3.6/dist-packages/keras/backend/tensorflow_backend.py:3005: The name tf.Session is deprecated. Please use tf.compat.v1.Session instead.\n",
            "\n",
            "Epoch 1/50\n",
            "WARNING:tensorflow:From /usr/local/lib/python3.6/dist-packages/keras/backend/tensorflow_backend.py:190: The name tf.get_default_session is deprecated. Please use tf.compat.v1.get_default_session instead.\n",
            "\n",
            "WARNING:tensorflow:From /usr/local/lib/python3.6/dist-packages/keras/backend/tensorflow_backend.py:197: The name tf.ConfigProto is deprecated. Please use tf.compat.v1.ConfigProto instead.\n",
            "\n",
            "WARNING:tensorflow:From /usr/local/lib/python3.6/dist-packages/keras/backend/tensorflow_backend.py:207: The name tf.global_variables is deprecated. Please use tf.compat.v1.global_variables instead.\n",
            "\n",
            "WARNING:tensorflow:From /usr/local/lib/python3.6/dist-packages/keras/backend/tensorflow_backend.py:216: The name tf.is_variable_initialized is deprecated. Please use tf.compat.v1.is_variable_initialized instead.\n",
            "\n",
            "WARNING:tensorflow:From /usr/local/lib/python3.6/dist-packages/keras/backend/tensorflow_backend.py:223: The name tf.variables_initializer is deprecated. Please use tf.compat.v1.variables_initializer instead.\n",
            "\n",
            "75/75 [==============================] - 24s 316ms/step - loss: 0.1844 - acc: 0.9525 - val_loss: 0.1699 - val_acc: 0.9517\n",
            "Epoch 2/50\n",
            "75/75 [==============================] - 8s 112ms/step - loss: 0.1649 - acc: 0.9537 - val_loss: 0.1485 - val_acc: 0.9558\n",
            "Epoch 3/50\n",
            "75/75 [==============================] - 8s 110ms/step - loss: 0.1419 - acc: 0.9570 - val_loss: 0.1551 - val_acc: 0.9545\n",
            "Epoch 4/50\n",
            "75/75 [==============================] - 8s 111ms/step - loss: 0.1399 - acc: 0.9571 - val_loss: 0.1276 - val_acc: 0.9585\n",
            "Epoch 5/50\n",
            "75/75 [==============================] - 9s 114ms/step - loss: 0.1275 - acc: 0.9592 - val_loss: 0.1072 - val_acc: 0.9632\n",
            "Epoch 6/50\n",
            "75/75 [==============================] - 8s 113ms/step - loss: 0.1164 - acc: 0.9612 - val_loss: 0.1120 - val_acc: 0.9619\n",
            "Epoch 7/50\n",
            "75/75 [==============================] - 9s 114ms/step - loss: 0.1056 - acc: 0.9633 - val_loss: 0.1049 - val_acc: 0.9636\n",
            "Epoch 8/50\n",
            "75/75 [==============================] - 8s 110ms/step - loss: 0.0986 - acc: 0.9654 - val_loss: 0.0904 - val_acc: 0.9686\n",
            "Epoch 9/50\n",
            "75/75 [==============================] - 8s 112ms/step - loss: 0.0889 - acc: 0.9672 - val_loss: 0.0782 - val_acc: 0.9706\n",
            "Epoch 10/50\n",
            "75/75 [==============================] - 8s 109ms/step - loss: 0.0850 - acc: 0.9686 - val_loss: 0.0710 - val_acc: 0.9751\n",
            "Epoch 11/50\n",
            "75/75 [==============================] - 8s 110ms/step - loss: 0.0801 - acc: 0.9703 - val_loss: 0.0850 - val_acc: 0.9681\n",
            "Epoch 12/50\n",
            "75/75 [==============================] - 8s 111ms/step - loss: 0.0782 - acc: 0.9711 - val_loss: 0.0689 - val_acc: 0.9747\n",
            "Epoch 13/50\n",
            "75/75 [==============================] - 8s 109ms/step - loss: 0.0721 - acc: 0.9732 - val_loss: 0.0751 - val_acc: 0.9748\n",
            "Epoch 14/50\n",
            "75/75 [==============================] - 8s 111ms/step - loss: 0.0653 - acc: 0.9759 - val_loss: 0.0785 - val_acc: 0.9722\n",
            "Epoch 15/50\n",
            "75/75 [==============================] - 8s 112ms/step - loss: 0.0661 - acc: 0.9751 - val_loss: 0.0617 - val_acc: 0.9755\n",
            "Epoch 16/50\n",
            "75/75 [==============================] - 8s 110ms/step - loss: 0.0629 - acc: 0.9771 - val_loss: 0.0588 - val_acc: 0.9778\n",
            "Epoch 17/50\n",
            "75/75 [==============================] - 8s 112ms/step - loss: 0.0567 - acc: 0.9790 - val_loss: 0.0554 - val_acc: 0.9807\n",
            "Epoch 18/50\n",
            "75/75 [==============================] - 8s 109ms/step - loss: 0.0527 - acc: 0.9796 - val_loss: 0.0489 - val_acc: 0.9820\n",
            "Epoch 19/50\n",
            "75/75 [==============================] - 8s 111ms/step - loss: 0.0508 - acc: 0.9813 - val_loss: 0.0495 - val_acc: 0.9810\n",
            "Epoch 20/50\n",
            "75/75 [==============================] - 8s 110ms/step - loss: 0.0501 - acc: 0.9813 - val_loss: 0.0494 - val_acc: 0.9815\n",
            "Epoch 21/50\n",
            "75/75 [==============================] - 8s 109ms/step - loss: 0.0466 - acc: 0.9827 - val_loss: 0.0501 - val_acc: 0.9829\n",
            "Epoch 22/50\n",
            "75/75 [==============================] - 9s 113ms/step - loss: 0.0435 - acc: 0.9833 - val_loss: 0.0495 - val_acc: 0.9819\n",
            "Epoch 23/50\n",
            "75/75 [==============================] - 8s 109ms/step - loss: 0.0465 - acc: 0.9826 - val_loss: 0.0438 - val_acc: 0.9840\n",
            "Epoch 24/50\n",
            "75/75 [==============================] - 8s 111ms/step - loss: 0.0385 - acc: 0.9851 - val_loss: 0.0499 - val_acc: 0.9839\n",
            "Epoch 25/50\n",
            "75/75 [==============================] - 8s 108ms/step - loss: 0.0377 - acc: 0.9863 - val_loss: 0.0435 - val_acc: 0.9834\n",
            "Epoch 26/50\n",
            "75/75 [==============================] - 8s 108ms/step - loss: 0.0358 - acc: 0.9866 - val_loss: 0.0498 - val_acc: 0.9827\n",
            "Epoch 27/50\n",
            "75/75 [==============================] - 8s 109ms/step - loss: 0.0390 - acc: 0.9853 - val_loss: 0.0620 - val_acc: 0.9780\n",
            "Epoch 28/50\n",
            "75/75 [==============================] - 8s 109ms/step - loss: 0.0389 - acc: 0.9859 - val_loss: 0.0416 - val_acc: 0.9838\n",
            "Epoch 29/50\n",
            "75/75 [==============================] - 8s 112ms/step - loss: 0.0346 - acc: 0.9871 - val_loss: 0.0472 - val_acc: 0.9827\n",
            "Epoch 30/50\n",
            "75/75 [==============================] - 8s 110ms/step - loss: 0.0354 - acc: 0.9865 - val_loss: 0.0439 - val_acc: 0.9829\n",
            "Epoch 31/50\n",
            "75/75 [==============================] - 8s 111ms/step - loss: 0.0296 - acc: 0.9891 - val_loss: 0.0369 - val_acc: 0.9868\n",
            "Epoch 32/50\n",
            "75/75 [==============================] - 8s 109ms/step - loss: 0.0286 - acc: 0.9894 - val_loss: 0.0422 - val_acc: 0.9859\n",
            "Epoch 33/50\n",
            "75/75 [==============================] - 8s 107ms/step - loss: 0.0298 - acc: 0.9883 - val_loss: 0.0524 - val_acc: 0.9823\n",
            "Epoch 34/50\n",
            "75/75 [==============================] - 8s 109ms/step - loss: 0.0249 - acc: 0.9914 - val_loss: 0.0396 - val_acc: 0.9862\n",
            "Epoch 35/50\n",
            "75/75 [==============================] - 8s 109ms/step - loss: 0.0290 - acc: 0.9887 - val_loss: 0.0418 - val_acc: 0.9841\n",
            "Epoch 36/50\n",
            "75/75 [==============================] - 8s 110ms/step - loss: 0.0252 - acc: 0.9899 - val_loss: 0.0380 - val_acc: 0.9860\n",
            "Epoch 37/50\n",
            "75/75 [==============================] - 8s 108ms/step - loss: 0.0322 - acc: 0.9880 - val_loss: 0.0390 - val_acc: 0.9860\n",
            "Epoch 38/50\n",
            "75/75 [==============================] - 8s 109ms/step - loss: 0.0261 - acc: 0.9899 - val_loss: 0.0441 - val_acc: 0.9825\n",
            "Epoch 39/50\n",
            "75/75 [==============================] - 8s 109ms/step - loss: 0.0258 - acc: 0.9904 - val_loss: 0.0419 - val_acc: 0.9841\n",
            "Epoch 40/50\n",
            "75/75 [==============================] - 8s 110ms/step - loss: 0.0266 - acc: 0.9899 - val_loss: 0.0338 - val_acc: 0.9876\n",
            "Epoch 41/50\n",
            "75/75 [==============================] - 8s 110ms/step - loss: 0.0190 - acc: 0.9933 - val_loss: 0.0352 - val_acc: 0.9876\n",
            "Epoch 42/50\n",
            "75/75 [==============================] - 8s 108ms/step - loss: 0.0239 - acc: 0.9912 - val_loss: 0.0334 - val_acc: 0.9875\n",
            "Epoch 43/50\n",
            "75/75 [==============================] - 8s 109ms/step - loss: 0.0186 - acc: 0.9926 - val_loss: 0.0402 - val_acc: 0.9857\n",
            "Epoch 44/50\n",
            "75/75 [==============================] - 8s 111ms/step - loss: 0.0230 - acc: 0.9920 - val_loss: 0.0374 - val_acc: 0.9867\n",
            "Epoch 45/50\n",
            "75/75 [==============================] - 8s 110ms/step - loss: 0.0178 - acc: 0.9932 - val_loss: 0.0405 - val_acc: 0.9857\n",
            "Epoch 46/50\n",
            "75/75 [==============================] - 8s 110ms/step - loss: 0.0187 - acc: 0.9927 - val_loss: 0.0345 - val_acc: 0.9887\n",
            "Epoch 47/50\n",
            "75/75 [==============================] - 8s 108ms/step - loss: 0.0193 - acc: 0.9928 - val_loss: 0.0542 - val_acc: 0.9823\n",
            "Epoch 48/50\n",
            "75/75 [==============================] - 8s 108ms/step - loss: 0.0226 - acc: 0.9919 - val_loss: 0.0396 - val_acc: 0.9877\n",
            "Epoch 49/50\n",
            "75/75 [==============================] - 8s 111ms/step - loss: 0.0202 - acc: 0.9920 - val_loss: 0.0386 - val_acc: 0.9873\n",
            "Epoch 50/50\n",
            "75/75 [==============================] - 8s 111ms/step - loss: 0.0155 - acc: 0.9942 - val_loss: 0.0326 - val_acc: 0.9887\n"
          ],
          "name": "stdout"
        }
      ]
    },
    {
      "cell_type": "code",
      "metadata": {
        "id": "ReUroTi7t-UH",
        "colab_type": "code",
        "outputId": "8ea413f3-b8b8-4e25-8928-1da786fcdf77",
        "colab": {
          "base_uri": "https://localhost:8080/",
          "height": 550
        }
      },
      "source": [
        "import seaborn as sns\n",
        "Y_pred = model.predict(x_test)\n",
        "Y_pred_classes = np.argmax(Y_pred,axis = 1) \n",
        "Y_true = np.argmax(y_test,axis = 1) \n",
        "confusion_mtx = confusion_matrix(Y_true, Y_pred_classes) \n",
        "f,ax = plt.subplots(figsize=(8, 8))\n",
        "sns.heatmap(confusion_mtx, annot=True, linewidths=0.01,cmap=\"Blues\",linecolor=\"black\", fmt= '.1f',ax=ax)\n",
        "plt.xlabel(\"Predicted Label\")\n",
        "plt.ylabel(\"True Label\")\n",
        "plt.title(\"Confusion Matrix\")\n",
        "plt.show()"
      ],
      "execution_count": 0,
      "outputs": [
        {
          "output_type": "display_data",
          "data": {
            "image/png": "[encoded data removed]",
            "text/plain": [
              "<Figure size 576x576 with 2 Axes>"
            ]
          },
          "metadata": {
            "tags": []
          }
        }
      ]
    },
    {
      "cell_type": "code",
      "metadata": {
        "id": "plI_PgsiuAb_",
        "colab_type": "code",
        "outputId": "72937ede-b76e-48eb-c452-5deb18cf14b7",
        "colab": {
          "base_uri": "https://localhost:8080/",
          "height": 317
        }
      },
      "source": [
        "plt.plot(History.history['loss'])\n",
        "plt.plot(History.history['val_loss'])\n",
        "plt.title('Model Loss')\n",
        "plt.ylabel('Loss')\n",
        "plt.xlabel('Epochs')\n",
        "plt.legend(['train', 'test'])\n",
        "plt.show()"
      ],
      "execution_count": 0,
      "outputs": [
        {
          "output_type": "display_data",
          "data": {
            "image/png": "[encoded data removed]",
            "text/plain": [
              "<Figure size 432x288 with 1 Axes>"
            ]
          },
          "metadata": {
            "tags": []
          }
        }
      ]
    },
    {
      "cell_type": "code",
      "metadata": {
        "id": "sxSxpCgQuCY6",
        "colab_type": "code",
        "outputId": "c209d2ba-72db-405f-bfea-c4cffb8af3a8",
        "colab": {
          "base_uri": "https://localhost:8080/",
          "height": 317
        }
      },
      "source": [
        "plt.plot(History.history['acc'])\n",
        "plt.plot(History.history['val_acc'])\n",
        "plt.title('Model Accuracy')\n",
        "plt.ylabel('Accuracy')\n",
        "plt.xlabel('Epochs')\n",
        "plt.legend(['train', 'test'])\n",
        "plt.show()"
      ],
      "execution_count": 0,
      "outputs": [
        {
          "output_type": "display_data",
          "data": {
            "image/png": "[encoded data removed]",
            "text/plain": [
              "<Figure size 432x288 with 1 Axes>"
            ]
          },
          "metadata": {
            "tags": []
          }
        }
      ]
    }
  ]
}