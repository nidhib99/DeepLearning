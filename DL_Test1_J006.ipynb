{
  "nbformat": 4,
  "nbformat_minor": 0,
  "metadata": {
    "colab": {
      "name": "DL-Test1-J006.ipynb",
      "provenance": [],
      "authorship_tag": "ABX9TyPq9zFkSWMZxya5hryRvEZK",
      "include_colab_link": true
    },
    "kernelspec": {
      "name": "python3",
      "display_name": "Python 3"
    }
  },
  "cells": [
    {
      "cell_type": "markdown",
      "metadata": {
        "id": "view-in-github",
        "colab_type": "text"
      },
      "source": [
        "<a href=\"https://colab.research.google.com/github/nidhib99/DeepLearning/blob/master/DL_Test1_J006.ipynb\" target=\"_parent\"><img src=\"https://colab.research.google.com/assets/colab-badge.svg\" alt=\"Open In Colab\"/></a>"
      ]
    },
    {
      "cell_type": "code",
      "metadata": {
        "id": "c9clrOoEY-3A",
        "colab_type": "code",
        "colab": {}
      },
      "source": [
        "from keras.datasets import cifar10\n",
        "\n",
        "(x_train, y_train), (x_test, y_test) = cifar10.load_data()"
      ],
      "execution_count": 0,
      "outputs": []
    },
    {
      "cell_type": "code",
      "metadata": {
        "id": "MHLdqM_OZSaW",
        "colab_type": "code",
        "outputId": "16adad38-36ef-4418-c29b-79de7c4cf1aa",
        "colab": {
          "base_uri": "https://localhost:8080/",
          "height": 52
        }
      },
      "source": [
        "print('Train: X=%s, y=%s' % (x_train.shape, y_train.shape))\n",
        "print('Test: X=%s, y=%s' % (x_test.shape, y_test.shape))"
      ],
      "execution_count": 0,
      "outputs": [
        {
          "output_type": "stream",
          "text": [
            "Train: X=(50000, 32, 32, 3), y=(50000, 1)\n",
            "Test: X=(10000, 32, 32, 3), y=(10000, 1)\n"
          ],
          "name": "stdout"
        }
      ]
    },
    {
      "cell_type": "code",
      "metadata": {
        "id": "ohtHnvqLZYsD",
        "colab_type": "code",
        "colab": {}
      },
      "source": [
        "from sklearn.model_selection import train_test_split\n",
        "X_train, cvX_test, y_train, cvY_test = train_test_split(x_train,y_train , test_size=0.20, random_state=20)"
      ],
      "execution_count": 0,
      "outputs": []
    },
    {
      "cell_type": "code",
      "metadata": {
        "id": "BhXycieMaWGs",
        "colab_type": "code",
        "outputId": "edc9d22e-6bc4-4d32-d396-9a1431c566c5",
        "colab": {
          "base_uri": "https://localhost:8080/",
          "height": 70
        }
      },
      "source": [
        "print(X_train.shape, y_train.shape)\n",
        "print(cvX_test.shape,cvY_test.shape)\n",
        "print(x_test.shape, y_test.shape)"
      ],
      "execution_count": 0,
      "outputs": [
        {
          "output_type": "stream",
          "text": [
            "(40000, 32, 32, 3) (40000, 1)\n",
            "(10000, 32, 32, 3) (10000, 1)\n",
            "(10000, 32, 32, 3) (10000, 1)\n"
          ],
          "name": "stdout"
        }
      ]
    },
    {
      "cell_type": "code",
      "metadata": {
        "id": "V6U5n00obCmH",
        "colab_type": "code",
        "colab": {}
      },
      "source": [
        "import keras\n",
        "from keras.models import Sequential\n",
        "from keras.layers import Dense, Dropout, Activation, Flatten\n",
        "from keras.utils import to_categorical"
      ],
      "execution_count": 0,
      "outputs": []
    },
    {
      "cell_type": "code",
      "metadata": {
        "id": "UknOrdtObFjA",
        "colab_type": "code",
        "colab": {}
      },
      "source": [
        "#change shape from image to vector\n",
        "X_train = X_train.reshape(40000, 32 * 32 * 3)\n",
        "x_test = x_test.reshape(10000, 32 * 32 * 3)\n",
        "cvX_test = cvX_test.reshape(10000, 32 * 32 * 3)\n",
        "\n",
        "#preprocess\n",
        "X_train = X_train.astype('float32')\n",
        "x_test = x_test.astype('float32')\n",
        "cvX_test = cvX_test.astype('float32')\n",
        "\n",
        "X_train /= 255.0\n",
        "x_test /=255.0\n",
        "cvX_test /= 255.0\n",
        "\n",
        "\n",
        "#change labels from numeric to one hot encoded\n",
        "Y_train = to_categorical(y_train, 10)\n",
        "y_test =  to_categorical(y_test, 10)\n",
        "cvY_test =  to_categorical(cvY_test, 10)"
      ],
      "execution_count": 0,
      "outputs": []
    },
    {
      "cell_type": "code",
      "metadata": {
        "id": "3Yy4gF5mcKyK",
        "colab_type": "code",
        "outputId": "87430102-8791-4b59-c2aa-09685fab64af",
        "colab": {
          "base_uri": "https://localhost:8080/",
          "height": 764
        }
      },
      "source": [
        "model = Sequential()\n",
        "model.add(Dense(1024, input_shape=(3072, )))\n",
        "model.add(Activation('relu'))\n",
        "model.add(Dense(512))\n",
        "model.add(Activation('relu'))\n",
        "model.add(Dense(512))\n",
        "model.add(Activation('relu'))\n",
        "model.add(Dense(10))\n",
        "model.add(Activation('softmax'))\n",
        "\n",
        "\n",
        "model.compile(loss='categorical_crossentropy',\n",
        "                  optimizer='adamax',\n",
        "                  metrics=['accuracy'])\n",
        "    \n",
        " \n",
        "\n",
        "# training\n",
        "history = model.fit(X_train, Y_train,\n",
        "                        batch_size=32,\n",
        "                        nb_epoch=20,\n",
        "                        verbose=1,\n",
        "                        validation_data=(cvX_test, cvY_test))"
      ],
      "execution_count": 0,
      "outputs": [
        {
          "output_type": "stream",
          "text": [
            "/usr/local/lib/python3.6/dist-packages/ipykernel_launcher.py:23: UserWarning: The `nb_epoch` argument in `fit` has been renamed `epochs`.\n"
          ],
          "name": "stderr"
        },
        {
          "output_type": "stream",
          "text": [
            "Train on 40000 samples, validate on 10000 samples\n",
            "Epoch 1/20\n",
            "40000/40000 [==============================] - 97s 2ms/step - loss: 2.6818 - acc: 0.2901 - val_loss: 1.7475 - val_acc: 0.3736\n",
            "Epoch 2/20\n",
            "40000/40000 [==============================] - 96s 2ms/step - loss: 1.7165 - acc: 0.3805 - val_loss: 1.6752 - val_acc: 0.3987\n",
            "Epoch 3/20\n",
            "40000/40000 [==============================] - 96s 2ms/step - loss: 1.6194 - acc: 0.4166 - val_loss: 1.6379 - val_acc: 0.4144\n",
            "Epoch 4/20\n",
            "40000/40000 [==============================] - 96s 2ms/step - loss: 1.5448 - acc: 0.4444 - val_loss: 1.5637 - val_acc: 0.4388\n",
            "Epoch 5/20\n",
            "40000/40000 [==============================] - 96s 2ms/step - loss: 1.4989 - acc: 0.4622 - val_loss: 1.4950 - val_acc: 0.4637\n",
            "Epoch 6/20\n",
            "40000/40000 [==============================] - 95s 2ms/step - loss: 1.4504 - acc: 0.4786 - val_loss: 1.5773 - val_acc: 0.4502\n",
            "Epoch 7/20\n",
            "40000/40000 [==============================] - 95s 2ms/step - loss: 1.4133 - acc: 0.4929 - val_loss: 1.5289 - val_acc: 0.4559\n",
            "Epoch 8/20\n",
            "40000/40000 [==============================] - 95s 2ms/step - loss: 1.3755 - acc: 0.5071 - val_loss: 1.4756 - val_acc: 0.4800\n",
            "Epoch 9/20\n",
            "40000/40000 [==============================] - 95s 2ms/step - loss: 1.3319 - acc: 0.5235 - val_loss: 1.4576 - val_acc: 0.4843\n",
            "Epoch 10/20\n",
            "40000/40000 [==============================] - 95s 2ms/step - loss: 1.2976 - acc: 0.5353 - val_loss: 1.4704 - val_acc: 0.4772\n",
            "Epoch 11/20\n",
            "40000/40000 [==============================] - 95s 2ms/step - loss: 1.2545 - acc: 0.5486 - val_loss: 1.4867 - val_acc: 0.4748\n",
            "Epoch 12/20\n",
            "40000/40000 [==============================] - 95s 2ms/step - loss: 1.2244 - acc: 0.5606 - val_loss: 1.5033 - val_acc: 0.4907\n",
            "Epoch 13/20\n",
            "40000/40000 [==============================] - 95s 2ms/step - loss: 1.1784 - acc: 0.5774 - val_loss: 1.4963 - val_acc: 0.4950\n",
            "Epoch 14/20\n",
            "40000/40000 [==============================] - 95s 2ms/step - loss: 1.1367 - acc: 0.5907 - val_loss: 1.4393 - val_acc: 0.5123\n",
            "Epoch 15/20\n",
            "40000/40000 [==============================] - 95s 2ms/step - loss: 1.0988 - acc: 0.6052 - val_loss: 1.4587 - val_acc: 0.4994\n",
            "Epoch 16/20\n",
            "40000/40000 [==============================] - 95s 2ms/step - loss: 1.0576 - acc: 0.6202 - val_loss: 1.4356 - val_acc: 0.5153\n",
            "Epoch 17/20\n",
            "40000/40000 [==============================] - 95s 2ms/step - loss: 1.0147 - acc: 0.6313 - val_loss: 1.4628 - val_acc: 0.5177\n",
            "Epoch 18/20\n",
            "40000/40000 [==============================] - 96s 2ms/step - loss: 0.9694 - acc: 0.6507 - val_loss: 1.5220 - val_acc: 0.5054\n",
            "Epoch 19/20\n",
            "40000/40000 [==============================] - 95s 2ms/step - loss: 0.9244 - acc: 0.6667 - val_loss: 1.5092 - val_acc: 0.5131\n",
            "Epoch 20/20\n",
            "40000/40000 [==============================] - 95s 2ms/step - loss: 0.8774 - acc: 0.6856 - val_loss: 1.5838 - val_acc: 0.5094\n"
          ],
          "name": "stdout"
        }
      ]
    },
    {
      "cell_type": "markdown",
      "metadata": {
        "id": "WkRUIuKstAqy",
        "colab_type": "text"
      },
      "source": [
        "Hyperparameters:\n",
        "*   Loss: categorical_crossentropy\n",
        "*   Layers: 4\n",
        "*   Activation: relu and softmax\n",
        "*   Optimizer: adamax\n"
      ]
    },
    {
      "cell_type": "code",
      "metadata": {
        "id": "bR4ZaSxTrsBb",
        "colab_type": "code",
        "outputId": "a2cb5e60-ff3d-4cee-9468-43efa71a5c01",
        "colab": {
          "base_uri": "https://localhost:8080/",
          "height": 573
        }
      },
      "source": [
        "import matplotlib.pyplot as plt\n",
        "# Plot training & validation accuracy values\n",
        "plt.plot(history.history['acc'])\n",
        "plt.plot(history.history['val_acc'])\n",
        "plt.title('Model accuracy')\n",
        "plt.ylabel('Accuracy')\n",
        "plt.xlabel('Epoch')\n",
        "plt.legend(['Train', 'Test'], loc='upper left')\n",
        "plt.show()\n",
        "\n",
        "# Plot training & validation loss values\n",
        "plt.plot(history.history['loss'])\n",
        "plt.plot(history.history['val_loss'])\n",
        "plt.title('Model loss')\n",
        "plt.ylabel('Loss')\n",
        "plt.xlabel('Epoch')\n",
        "plt.legend(['Train', 'Test'], loc='upper left')\n",
        "plt.show()"
      ],
      "execution_count": 0,
      "outputs": [
        {
          "output_type": "display_data",
          "data": {
            "image/png": "[encoded data removed]",
            "text/plain": [
              "<Figure size 432x288 with 1 Axes>"
            ]
          },
          "metadata": {
            "tags": []
          }
        },
        {
          "output_type": "display_data",
          "data": {
            "image/png": "[encoded data removed]",
            "text/plain": [
              "<Figure size 432x288 with 1 Axes>"
            ]
          },
          "metadata": {
            "tags": []
          }
        }
      ]
    },
    {
      "cell_type": "code",
      "metadata": {
        "id": "XKtuj8g6sb1A",
        "colab_type": "code",
        "outputId": "088e24cf-88de-440c-f901-57b5c4c7978f",
        "colab": {
          "base_uri": "https://localhost:8080/",
          "height": 444
        }
      },
      "source": [
        "model.summary()"
      ],
      "execution_count": 0,
      "outputs": [
        {
          "output_type": "stream",
          "text": [
            "Model: \"sequential_13\"\n",
            "_________________________________________________________________\n",
            "Layer (type)                 Output Shape              Param #   \n",
            "=================================================================\n",
            "dense_54 (Dense)             (None, 1024)              3146752   \n",
            "_________________________________________________________________\n",
            "activation_54 (Activation)   (None, 1024)              0         \n",
            "_________________________________________________________________\n",
            "dense_55 (Dense)             (None, 512)               524800    \n",
            "_________________________________________________________________\n",
            "activation_55 (Activation)   (None, 512)               0         \n",
            "_________________________________________________________________\n",
            "dense_56 (Dense)             (None, 512)               262656    \n",
            "_________________________________________________________________\n",
            "activation_56 (Activation)   (None, 512)               0         \n",
            "_________________________________________________________________\n",
            "dense_57 (Dense)             (None, 10)                5130      \n",
            "_________________________________________________________________\n",
            "activation_57 (Activation)   (None, 10)                0         \n",
            "=================================================================\n",
            "Total params: 3,939,338\n",
            "Trainable params: 3,939,338\n",
            "Non-trainable params: 0\n",
            "_________________________________________________________________\n"
          ],
          "name": "stdout"
        }
      ]
    },
    {
      "cell_type": "code",
      "metadata": {
        "id": "X-_U4nLVsdI2",
        "colab_type": "code",
        "outputId": "4d4e5b22-91a8-4671-a7a3-5a07c516b7ff",
        "colab": {
          "base_uri": "https://localhost:8080/",
          "height": 1000
        }
      },
      "source": [
        "from keras.utils.vis_utils import model_to_dot\n",
        "from IPython.display import SVG\n",
        "SVG(model_to_dot(model).create(prog='dot', format='svg'))"
      ],
      "execution_count": 0,
      "outputs": [
        {
          "output_type": "execute_result",
          "data": {
            "text/plain": [
              "<IPython.core.display.SVG object>"
            ],
            "image/svg+xml": "<svg height=\"839pt\" viewBox=\"0.00 0.00 188.00 629.00\" width=\"251pt\" xmlns=\"http://www.w3.org/2000/svg\" xmlns:xlink=\"http://www.w3.org/1999/xlink\">\n<g class=\"graph\" id=\"graph0\" transform=\"scale(1.3333 1.3333) rotate(0) translate(4 625)\">\n<title>G</title>\n<polygon fill=\"#ffffff\" points=\"-4,4 -4,-625 184,-625 184,4 -4,4\" stroke=\"transparent\"/>\n<!-- 140579156296144 -->\n<g class=\"node\" id=\"node1\">\n<title>140579156296144</title>\n<polygon fill=\"none\" points=\"0,-584.5 0,-620.5 180,-620.5 180,-584.5 0,-584.5\" stroke=\"#000000\"/>\n<text fill=\"#000000\" font-family=\"Times,serif\" font-size=\"14.00\" text-anchor=\"middle\" x=\"90\" y=\"-598.8\">dense_54_input: InputLayer</text>\n</g>\n<!-- 140579154727152 -->\n<g class=\"node\" id=\"node2\">\n<title>140579154727152</title>\n<polygon fill=\"none\" points=\"33,-511.5 33,-547.5 147,-547.5 147,-511.5 33,-511.5\" stroke=\"#000000\"/>\n<text fill=\"#000000\" font-family=\"Times,serif\" font-size=\"14.00\" text-anchor=\"middle\" x=\"90\" y=\"-525.8\">dense_54: Dense</text>\n</g>\n<!-- 140579156296144&#45;&gt;140579154727152 -->\n<g class=\"edge\" id=\"edge1\">\n<title>140579156296144-&gt;140579154727152</title>\n<path d=\"M90,-584.4551C90,-576.3828 90,-566.6764 90,-557.6817\" fill=\"none\" stroke=\"#000000\"/>\n<polygon fill=\"#000000\" points=\"93.5001,-557.5903 90,-547.5904 86.5001,-557.5904 93.5001,-557.5903\" stroke=\"#000000\"/>\n</g>\n<!-- 140579156295808 -->\n<g class=\"node\" id=\"node3\">\n<title>140579156295808</title>\n<polygon fill=\"none\" points=\"9.5,-438.5 9.5,-474.5 170.5,-474.5 170.5,-438.5 9.5,-438.5\" stroke=\"#000000\"/>\n<text fill=\"#000000\" font-family=\"Times,serif\" font-size=\"14.00\" text-anchor=\"middle\" x=\"90\" y=\"-452.8\">activation_54: Activation</text>\n</g>\n<!-- 140579154727152&#45;&gt;140579156295808 -->\n<g class=\"edge\" id=\"edge2\">\n<title>140579154727152-&gt;140579156295808</title>\n<path d=\"M90,-511.4551C90,-503.3828 90,-493.6764 90,-484.6817\" fill=\"none\" stroke=\"#000000\"/>\n<polygon fill=\"#000000\" points=\"93.5001,-484.5903 90,-474.5904 86.5001,-484.5904 93.5001,-484.5903\" stroke=\"#000000\"/>\n</g>\n<!-- 140579156296704 -->\n<g class=\"node\" id=\"node4\">\n<title>140579156296704</title>\n<polygon fill=\"none\" points=\"33,-365.5 33,-401.5 147,-401.5 147,-365.5 33,-365.5\" stroke=\"#000000\"/>\n<text fill=\"#000000\" font-family=\"Times,serif\" font-size=\"14.00\" text-anchor=\"middle\" x=\"90\" y=\"-379.8\">dense_55: Dense</text>\n</g>\n<!-- 140579156295808&#45;&gt;140579156296704 -->\n<g class=\"edge\" id=\"edge3\">\n<title>140579156295808-&gt;140579156296704</title>\n<path d=\"M90,-438.4551C90,-430.3828 90,-420.6764 90,-411.6817\" fill=\"none\" stroke=\"#000000\"/>\n<polygon fill=\"#000000\" points=\"93.5001,-411.5903 90,-401.5904 86.5001,-411.5904 93.5001,-411.5903\" stroke=\"#000000\"/>\n</g>\n<!-- 140579156301808 -->\n<g class=\"node\" id=\"node5\">\n<title>140579156301808</title>\n<polygon fill=\"none\" points=\"9.5,-292.5 9.5,-328.5 170.5,-328.5 170.5,-292.5 9.5,-292.5\" stroke=\"#000000\"/>\n<text fill=\"#000000\" font-family=\"Times,serif\" font-size=\"14.00\" text-anchor=\"middle\" x=\"90\" y=\"-306.8\">activation_55: Activation</text>\n</g>\n<!-- 140579156296704&#45;&gt;140579156301808 -->\n<g class=\"edge\" id=\"edge4\">\n<title>140579156296704-&gt;140579156301808</title>\n<path d=\"M90,-365.4551C90,-357.3828 90,-347.6764 90,-338.6817\" fill=\"none\" stroke=\"#000000\"/>\n<polygon fill=\"#000000\" points=\"93.5001,-338.5903 90,-328.5904 86.5001,-338.5904 93.5001,-338.5903\" stroke=\"#000000\"/>\n</g>\n<!-- 140579156302200 -->\n<g class=\"node\" id=\"node6\">\n<title>140579156302200</title>\n<polygon fill=\"none\" points=\"33,-219.5 33,-255.5 147,-255.5 147,-219.5 33,-219.5\" stroke=\"#000000\"/>\n<text fill=\"#000000\" font-family=\"Times,serif\" font-size=\"14.00\" text-anchor=\"middle\" x=\"90\" y=\"-233.8\">dense_56: Dense</text>\n</g>\n<!-- 140579156301808&#45;&gt;140579156302200 -->\n<g class=\"edge\" id=\"edge5\">\n<title>140579156301808-&gt;140579156302200</title>\n<path d=\"M90,-292.4551C90,-284.3828 90,-274.6764 90,-265.6817\" fill=\"none\" stroke=\"#000000\"/>\n<polygon fill=\"#000000\" points=\"93.5001,-265.5903 90,-255.5904 86.5001,-265.5904 93.5001,-265.5903\" stroke=\"#000000\"/>\n</g>\n<!-- 140579154890536 -->\n<g class=\"node\" id=\"node7\">\n<title>140579154890536</title>\n<polygon fill=\"none\" points=\"9.5,-146.5 9.5,-182.5 170.5,-182.5 170.5,-146.5 9.5,-146.5\" stroke=\"#000000\"/>\n<text fill=\"#000000\" font-family=\"Times,serif\" font-size=\"14.00\" text-anchor=\"middle\" x=\"90\" y=\"-160.8\">activation_56: Activation</text>\n</g>\n<!-- 140579156302200&#45;&gt;140579154890536 -->\n<g class=\"edge\" id=\"edge6\">\n<title>140579156302200-&gt;140579154890536</title>\n<path d=\"M90,-219.4551C90,-211.3828 90,-201.6764 90,-192.6817\" fill=\"none\" stroke=\"#000000\"/>\n<polygon fill=\"#000000\" points=\"93.5001,-192.5903 90,-182.5904 86.5001,-192.5904 93.5001,-192.5903\" stroke=\"#000000\"/>\n</g>\n<!-- 140579154911416 -->\n<g class=\"node\" id=\"node8\">\n<title>140579154911416</title>\n<polygon fill=\"none\" points=\"33,-73.5 33,-109.5 147,-109.5 147,-73.5 33,-73.5\" stroke=\"#000000\"/>\n<text fill=\"#000000\" font-family=\"Times,serif\" font-size=\"14.00\" text-anchor=\"middle\" x=\"90\" y=\"-87.8\">dense_57: Dense</text>\n</g>\n<!-- 140579154890536&#45;&gt;140579154911416 -->\n<g class=\"edge\" id=\"edge7\">\n<title>140579154890536-&gt;140579154911416</title>\n<path d=\"M90,-146.4551C90,-138.3828 90,-128.6764 90,-119.6817\" fill=\"none\" stroke=\"#000000\"/>\n<polygon fill=\"#000000\" points=\"93.5001,-119.5903 90,-109.5904 86.5001,-119.5904 93.5001,-119.5903\" stroke=\"#000000\"/>\n</g>\n<!-- 140579154413776 -->\n<g class=\"node\" id=\"node9\">\n<title>140579154413776</title>\n<polygon fill=\"none\" points=\"9.5,-.5 9.5,-36.5 170.5,-36.5 170.5,-.5 9.5,-.5\" stroke=\"#000000\"/>\n<text fill=\"#000000\" font-family=\"Times,serif\" font-size=\"14.00\" text-anchor=\"middle\" x=\"90\" y=\"-14.8\">activation_57: Activation</text>\n</g>\n<!-- 140579154911416&#45;&gt;140579154413776 -->\n<g class=\"edge\" id=\"edge8\">\n<title>140579154911416-&gt;140579154413776</title>\n<path d=\"M90,-73.4551C90,-65.3828 90,-55.6764 90,-46.6817\" fill=\"none\" stroke=\"#000000\"/>\n<polygon fill=\"#000000\" points=\"93.5001,-46.5903 90,-36.5904 86.5001,-46.5904 93.5001,-46.5903\" stroke=\"#000000\"/>\n</g>\n</g>\n</svg>"
          },
          "metadata": {
            "tags": []
          },
          "execution_count": 41
        }
      ]
    }
  ]
}